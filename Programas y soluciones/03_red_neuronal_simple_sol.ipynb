{
 "cells": [
  {
   "cell_type": "markdown",
   "metadata": {},
   "source": [
    "# Red Neuronal Simple\n",
    "\n",
    "En este notebook programaremos una red neuronal simple (perceptron) utilizando numpy.\n",
    "\n",
    "@juan1rving\n",
    "\n",
    "<img src=\"files/simple_nn_notebook.png\">\n",
    "\n"
   ]
  },
  {
   "cell_type": "code",
   "execution_count": 1,
   "metadata": {},
   "outputs": [],
   "source": [
    "# Cargamos paquetes\n",
    "import numpy as np"
   ]
  },
  {
   "cell_type": "markdown",
   "metadata": {},
   "source": [
    "Recordemos que h se calcula a partir del producto punto.\n",
    "\n",
    "$$ h = W X +b $$"
   ]
  },
  {
   "cell_type": "code",
   "execution_count": 2,
   "metadata": {},
   "outputs": [],
   "source": [
    "# Definimos la función h\n",
    "def function_h(X, W, b):\n",
    "    suma = 0\n",
    "    for w, x in zip(W,X):\n",
    "        suma = suma + w * x\n",
    "    suma = suma + b\n",
    "    return suma"
   ]
  },
  {
   "cell_type": "markdown",
   "metadata": {},
   "source": [
    "Para este ejemplo utilizaremos la función sigmoide como función de activación.\n",
    "\n",
    "$$ f(x) =  \\frac{\\mathrm{1} }{\\mathrm{1} + e^{-x} }  $$ "
   ]
  },
  {
   "cell_type": "code",
   "execution_count": 3,
   "metadata": {},
   "outputs": [],
   "source": [
    "# Definimos la función de activación. \n",
    "# En este ejemplo utilizaremos la función sigmoide.\n",
    "\n",
    "def sigmoid(x):\n",
    "    result = 1/(1+np.exp(-x))\n",
    "    return result"
   ]
  },
  {
   "cell_type": "markdown",
   "metadata": {},
   "source": [
    "## Probar la red\n",
    "\n",
    "Ahora definamos unos pesos y veamos el resultado de una pasada frontal (fordward pass)."
   ]
  },
  {
   "cell_type": "code",
   "execution_count": 4,
   "metadata": {},
   "outputs": [
    {
     "name": "stdout",
     "output_type": "stream",
     "text": [
      "4\n",
      "4\n",
      "5\n",
      "salida:  0.9933071490757153\n"
     ]
    }
   ],
   "source": [
    "entradas = np.array([1, 1])\n",
    "pesos = np.array([2, 2])\n",
    "sesgo = 1\n",
    "\n",
    "# pase frontal\n",
    "h = function_h(entradas, pesos, sesgo)\n",
    "salida = sigmoid(h)\n",
    "\n",
    "print(h)\n",
    "print('salida: ', salida)"
   ]
  },
  {
   "cell_type": "code",
   "execution_count": null,
   "metadata": {},
   "outputs": [
    {
     "ename": "",
     "evalue": "",
     "output_type": "error",
     "traceback": [
      "\u001b[1;31mRunning cells with '/bin/python3' requires the ipykernel package.\n",
      "\u001b[1;31mRun the following command to install 'ipykernel' into the Python environment. \n",
      "\u001b[1;31mCommand: '/bin/python3 -m pip install ipykernel -U --user --force-reinstall'"
     ]
    }
   ],
   "source": [
    "# función escalón\n",
    "def escalon(h):\n",
    "    if h >= 0:\n",
    "        return 1\n",
    "    else:\n",
    "        return 0"
   ]
  }
 ],
 "metadata": {
  "kernelspec": {
   "display_name": "nni",
   "language": "python",
   "name": "python3"
  },
  "language_info": {
   "codemirror_mode": {
    "name": "ipython",
    "version": 3
   },
   "file_extension": ".py",
   "mimetype": "text/x-python",
   "name": "python",
   "nbconvert_exporter": "python",
   "pygments_lexer": "ipython3",
   "version": "3.12.1"
  },
  "vscode": {
   "interpreter": {
    "hash": "cbad788490f55b163920bee5e9d5e0cba00db5905dc94f4bdbe0011e55bf465f"
   }
  },
  "widgets": {
   "state": {},
   "version": "1.1.2"
  }
 },
 "nbformat": 4,
 "nbformat_minor": 2
}
