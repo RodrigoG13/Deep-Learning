{
 "cells": [
  {
   "cell_type": "markdown",
   "metadata": {},
   "source": [
    "# Gradiente Descendente\n",
    "\n",
    "En este notebook implementaremos un paso del gradiente descendente.\n",
    "\n",
    "![gradiente](files/gradient_descent_1n_notebook.png)\n"
   ]
  },
  {
   "cell_type": "code",
   "execution_count": 1,
   "metadata": {},
   "outputs": [],
   "source": [
    "# importamos paquetes\n",
    "import numpy as np"
   ]
  },
  {
   "cell_type": "markdown",
   "metadata": {},
   "source": [
    "## Definimos la RN"
   ]
  },
  {
   "cell_type": "code",
   "execution_count": 2,
   "metadata": {},
   "outputs": [],
   "source": [
    "# función de activación\n",
    "def sigmoid(x):\n",
    "    return 1/(1+np.exp(-x))\n",
    "\n",
    "# Derivada de f\n",
    "def sigmoid_prime(x):\n",
    "    return sigmoid(x) * (1 - sigmoid(x))\n",
    "\n",
    "# función h lineal\n",
    "def function_h(X, W, b):\n",
    "    return np.dot(W, X) + b\n",
    "\n",
    "# Salida de la RN\n",
    "def output_y(X,W,b):\n",
    "    return sigmoid(function_h(X,W,b))"
   ]
  },
  {
   "cell_type": "markdown",
   "metadata": {},
   "source": [
    "## Término de error\n",
    "\n",
    "Escribe una función que calcule el término de error\n",
    "\n",
    "$$\\delta= (y-\\hat{y})f' (h) = (y-\\hat{y})f' (\\sum_i w_i x_i)$$"
   ]
  },
  {
   "cell_type": "code",
   "execution_count": 3,
   "metadata": {},
   "outputs": [],
   "source": [
    "def error_term(y,W,X,b):\n",
    "    error = y - output_y(X,W,b)\n",
    "    delta = error * sigmoid_prime(function_h(X,W,b))\n",
    "    return delta"
   ]
  },
  {
   "cell_type": "markdown",
   "metadata": {},
   "source": [
    "## Incremento\n",
    "\n",
    "Escribe una función para determinar el incremento a uno de los pesos\n",
    "$$\\Delta w_i= \\eta \\delta x_i$$\n"
   ]
  },
  {
   "cell_type": "code",
   "execution_count": 4,
   "metadata": {},
   "outputs": [],
   "source": [
    "def increment(W, X, b, eta, i, y):\n",
    "    incremento = eta * error_term(y,W,X,b) * X[i]\n",
    "    return incremento\n",
    "    "
   ]
  },
  {
   "cell_type": "markdown",
   "metadata": {},
   "source": [
    "## Ejemplo\n",
    "\n",
    "Implementemos una red de ejemplo "
   ]
  },
  {
   "cell_type": "code",
   "execution_count": 5,
   "metadata": {},
   "outputs": [],
   "source": [
    "# valores de ejemplo\n",
    "learning_rate = 0.1\n",
    "x = np.array([1,1])\n",
    "y = 5\n",
    "\n",
    "# Initial weights\n",
    "w = np.array([0.1,0.2])\n",
    "b = 0"
   ]
  },
  {
   "cell_type": "code",
   "execution_count": 6,
   "metadata": {},
   "outputs": [
    {
     "name": "stdout",
     "output_type": "stream",
     "text": [
      "Salida: 0.574442516811659\n",
      "Error: 4.425557483188341\n",
      "Incremento: [0.10818643106305684, 0.10818643106305684]\n",
      "Nuevos pesos: [0.20818643 0.30818643]\n",
      "Nuevo error: 4.373700770233137\n"
     ]
    }
   ],
   "source": [
    "# Calcular la salida de la red\n",
    "salida = output_y(x, w, b)\n",
    "print('Salida:', salida)\n",
    "\n",
    "# Calcula el error residual de la red\n",
    "residual = y - salida\n",
    "print('Error:', residual)\n",
    "\n",
    "# Calcula el incremento de los pesos\n",
    "incremento = [increment(w, x, b, learning_rate, 0, y), increment(w, x, b, learning_rate, 1, y)]\n",
    "print('Incremento:', incremento)\n",
    "\n",
    "# Calcula el nuevo valor del los pesos\n",
    "n_w = w + incremento\n",
    "print('Nuevos pesos:', n_w)\n",
    "\n",
    "# Calcula el nuevo error\n",
    "n_error = y - output_y(x, n_w, b)\n",
    "print('Nuevo error:', n_error)\n"
   ]
  }
 ],
 "metadata": {
  "kernelspec": {
   "display_name": "nni",
   "language": "python",
   "name": "python3"
  },
  "language_info": {
   "codemirror_mode": {
    "name": "ipython",
    "version": 3
   },
   "file_extension": ".py",
   "mimetype": "text/x-python",
   "name": "python",
   "nbconvert_exporter": "python",
   "pygments_lexer": "ipython3",
   "version": "3.10.9"
  },
  "vscode": {
   "interpreter": {
    "hash": "cbad788490f55b163920bee5e9d5e0cba00db5905dc94f4bdbe0011e55bf465f"
   }
  },
  "widgets": {
   "state": {},
   "version": "1.1.2"
  }
 },
 "nbformat": 4,
 "nbformat_minor": 2
}
