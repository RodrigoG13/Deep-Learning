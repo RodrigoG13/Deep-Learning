{
 "cells": [
  {
   "attachments": {},
   "cell_type": "markdown",
   "metadata": {},
   "source": [
    "# Perceptrón Simple\n",
    "\n",
    "En este notebook programaremos un perceptron simple utilizando numpy. El objetivo es que comprendamos el funcionamiento del perceptrón y que practiquemos la programación en Python. En la siguiente figura se encuentra una representación del perceptrón.\n",
    "\n",
    "[![Open In Colab](https://colab.research.google.com/assets/colab-badge.svg)](https://colab.research.google.com/github/irvingvasquez/cv2course_intro_nn/blob/master/02_red_neuronal_simple.ipynb)\n",
    "\n",
    "@juan1rving\n"
   ]
  },
  {
   "cell_type": "code",
   "execution_count": 97,
   "metadata": {},
   "outputs": [],
   "source": [
    "import numpy as np"
   ]
  },
  {
   "attachments": {},
   "cell_type": "markdown",
   "metadata": {},
   "source": [
    "## Calcular producto punto\n",
    "\n",
    "El primer paso es calcular el logit, *h*, a partir del producto punto. La fórmula explícita es la siguiente:\n",
    "\n",
    "$$ h = W X +b $$"
   ]
  },
  {
   "cell_type": "code",
   "execution_count": 98,
   "metadata": {},
   "outputs": [],
   "source": [
    "def transponer_matrix(matriz: np.ndarray) -> np.ndarray:\n",
    "    \"\"\"\n",
    "    Transpone una matriz dada.\n",
    "\n",
    "    Args:\n",
    "        matriz (np.ndarray): Matriz a transponer. Puede ser un vector o una matriz 2D.\n",
    "\n",
    "    Returns:\n",
    "        np.ndarray: Matriz transpuesta.\n",
    "    \"\"\"\n",
    "    if matriz.ndim == 1:\n",
    "        matriz_transpuesta = matriz.reshape(-1, 1)\n",
    "    else:\n",
    "        filas, columnas = matriz.shape\n",
    "        matriz_transpuesta = np.zeros((columnas, filas), dtype=matriz.dtype)\n",
    "        for i in range(filas):\n",
    "            for j in range(columnas):\n",
    "                matriz_transpuesta[j, i] = matriz[i, j]\n",
    "    return matriz_transpuesta"
   ]
  },
  {
   "cell_type": "code",
   "execution_count": 99,
   "metadata": {},
   "outputs": [],
   "source": [
    "def multiplicar_matrix(m1: np.ndarray, m2: np.ndarray) -> np.ndarray:\n",
    "    \"\"\"\n",
    "    Multiplica dos matrices.\n",
    "\n",
    "    Args:\n",
    "        m1 (np.ndarray): Primera matriz.\n",
    "        m2 (np.ndarray): Segunda matriz.\n",
    "\n",
    "    Returns:\n",
    "        np.ndarray: Resultado de la multiplicación de m1 por m2.\n",
    "\n",
    "    Raises:\n",
    "        AssertionError: Si las dimensiones de las matrices no son compatibles para la multiplicación.\n",
    "    \"\"\"\n",
    "    if m1.ndim == 1:\n",
    "        m1 = m1.reshape(1, -1)\n",
    "    if m2.ndim == 1:\n",
    "        m2 = m2.reshape(-1, 1)\n",
    "\n",
    "    assert m1.shape[1] == m2.shape[0], \"Dimensiones incompatibles.\"\n",
    "    \n",
    "    resultado = np.zeros((m1.shape[0], m2.shape[1]), dtype=np.result_type(m1, m2))\n",
    "    for i in range(m1.shape[0]):\n",
    "        for j in range(m2.shape[1]):\n",
    "            for k in range(m1.shape[1]):\n",
    "                resultado[i, j] += m1[i, k] * m2[k, j]\n",
    "    \n",
    "    if resultado.shape == (1, 1):\n",
    "        return resultado[0, 0]\n",
    "    else:\n",
    "        return resultado"
   ]
  },
  {
   "cell_type": "code",
   "execution_count": 100,
   "metadata": {},
   "outputs": [],
   "source": [
    "def function_h(X: np.ndarray, W: np.ndarray, b: np.float64) -> np.float64:\n",
    "    \"\"\"\n",
    "    Calcula la función h para el perceptrón, combinando inputs, pesos y sesgo.\n",
    "\n",
    "    Args:\n",
    "        X (np.ndarray): Vector de entrada.\n",
    "        W (np.ndarray): Vector de pesos.\n",
    "        b (float): Sesgo.\n",
    "\n",
    "    Returns:\n",
    "        np.ndarray: Resultado de aplicar la función h.\n",
    "    \"\"\"\n",
    "    return multiplicar_matrix(np.append(W,b), transponer_matrix(np.append(X,1)))"
   ]
  },
  {
   "attachments": {},
   "cell_type": "markdown",
   "metadata": {},
   "source": [
    "## Función de activación\n",
    "\n",
    "Para este ejemplo utilizaremos la función sigmoide como función de activación.\n",
    "\n",
    "$$ \tf(h) = \\begin{cases}\n",
    "\t\t0 & \\text{if } h < a \\\\\n",
    "\t\t1 & \\text{if } h \\geq a\n",
    "\\end{cases}  $$ "
   ]
  },
  {
   "cell_type": "code",
   "execution_count": 106,
   "metadata": {},
   "outputs": [],
   "source": [
    "def aplicar_escalon(h: np.float64) -> int:\n",
    "    \"\"\"\n",
    "    Aplica la función escalón a un valor dado.\n",
    "\n",
    "    Args:\n",
    "        h (float): Valor a evaluar con la función escalón.\n",
    "\n",
    "    Returns:\n",
    "        int: Resultado de aplicar la función escalón, 1 si h >= 0, de lo contrario 0.\n",
    "    \"\"\"\n",
    "    if h >= 0 :\n",
    "        return 1\n",
    "    else :\n",
    "        return 0"
   ]
  },
  {
   "cell_type": "code",
   "execution_count": 102,
   "metadata": {},
   "outputs": [],
   "source": [
    "def perceptron(inputs: np.ndarray, weights: np.ndarray, bias: float) -> None:\n",
    "    \"\"\"\n",
    "    Simula un perceptrón simple, realizando cálculos con inputs, pesos y sesgo.\n",
    "\n",
    "    Args:\n",
    "        inputs (np.ndarray): Vector de entrada.\n",
    "        weights (np.ndarray): Vector de pesos.\n",
    "        bias (float): Sesgo.\n",
    "    \"\"\"\n",
    "    print(f\"Inputs: {tuple(list(inputs))}\")\n",
    "    print(f\"Parámetros: {tuple(list(weights))}\")\n",
    "    h = function_h(inputs, weights, bias)\n",
    "    print(f\"Resultado de la neurona: {aplicar_escalon(h)}\")"
   ]
  },
  {
   "cell_type": "markdown",
   "metadata": {},
   "source": [
    "## Probar inferencia\n",
    "\n",
    "Ahora definamos unos pesos y veamos el resultado de una pasada frontal (fordward pass)."
   ]
  },
  {
   "cell_type": "code",
   "execution_count": 103,
   "metadata": {},
   "outputs": [
    {
     "name": "stdout",
     "output_type": "stream",
     "text": [
      "\t\t\t***PERCEPTRÓN SIMPLE***\n",
      "Inputs: (0.7, -0.3)\n",
      "Parámetros: (0.1, 0.8)\n",
      "Resultado de la neurona: 1\n"
     ]
    }
   ],
   "source": [
    "print(\"\\t\\t\\t***PERCEPTRÓN SIMPLE***\")\n",
    "inputs = np.array([0.7 , -0.3 ])\n",
    "weights = np.array([0.1 , 0.8 ])\n",
    "bias = 0.5\n",
    "perceptron(inputs, weights, bias)"
   ]
  },
  {
   "cell_type": "markdown",
   "metadata": {},
   "source": [
    "## Perceptrón OR"
   ]
  },
  {
   "cell_type": "markdown",
   "metadata": {},
   "source": [
    "Ecuaciones de donde se dedujeron los pesos\n",
    "\n",
    "![Texto alternativo](or.jpeg)"
   ]
  },
  {
   "cell_type": "code",
   "execution_count": 104,
   "metadata": {},
   "outputs": [
    {
     "name": "stdout",
     "output_type": "stream",
     "text": [
      "\t\t\t***PERCEPTRÓN SIMPLE - OR***\n",
      "Inputs: (0, 0)\n",
      "Parámetros: (1, 1)\n",
      "Resultado de la neurona: 0\n"
     ]
    }
   ],
   "source": [
    "print(\"\\t\\t\\t***PERCEPTRÓN SIMPLE - OR***\")\n",
    "inputs = np.array([0, 0])\n",
    "weights = np.array([1 ,1])\n",
    "bias = -1\n",
    "perceptron(inputs, weights, bias)"
   ]
  },
  {
   "cell_type": "markdown",
   "metadata": {},
   "source": [
    "### Conclusiones\n",
    "\n",
    "A través de esta práctica, hemos profundizado en la comprensión de los fundamentos del deep learning, específicamente en la operación y aplicación de un perceptrón simple. Implementamos funciones para realizar operaciones básicas de álgebra lineal, como la transposición y multiplicación de matrices, y las aplicamos en el contexto de un perceptrón para modelar el proceso de toma de decisiones lineales basado en entradas, pesos, y un sesgo. Esta aproximación nos ha permitido apreciar cómo un modelo tan elemental puede efectivamente realizar clasificaciones binarias, sirviendo como el bloque constructor para redes neuronales más complejas.\n"
   ]
  }
 ],
 "metadata": {
  "kernelspec": {
   "display_name": "nni",
   "language": "python",
   "name": "python3"
  },
  "language_info": {
   "codemirror_mode": {
    "name": "ipython",
    "version": 3
   },
   "file_extension": ".py",
   "mimetype": "text/x-python",
   "name": "python",
   "nbconvert_exporter": "python",
   "pygments_lexer": "ipython3",
   "version": "3.10.12"
  },
  "vscode": {
   "interpreter": {
    "hash": "cbad788490f55b163920bee5e9d5e0cba00db5905dc94f4bdbe0011e55bf465f"
   }
  },
  "widgets": {
   "state": {},
   "version": "1.1.2"
  }
 },
 "nbformat": 4,
 "nbformat_minor": 2
}
