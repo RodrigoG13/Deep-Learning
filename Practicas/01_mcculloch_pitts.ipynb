{
 "cells": [
  {
   "cell_type": "markdown",
   "metadata": {},
   "source": [
    "# Neurona McCulloch y Pitts\n",
    "\n",
    "El modelo de McCulloch y Pitts, concebido por Warren McCulloch, neurocientífico, y Walter Pitts, lógico matemático, en 1943 [1], representa uno de los fundamentos teóricos de las redes neuronales y la inteligencia artificial. Este modelo es una simplificación abstracta de las neuronas biológicas, propuesta para entender cómo podrían las neuronas del cerebro generar patrones complejos de pensamiento a partir de operaciones simples.\n",
    "\n",
    "[![Open In Colab](https://colab.research.google.com/assets/colab-badge.svg)](https://colab.research.google.com/github/irvingvasquez/cv2course_intro_nn/blob/master/01_mcculloch_pitts.ipynb)\n",
    "\n",
    "[1] McCulloch, W. S., & Pitts, W. (1990). A logical calculus of the ideas immanent in nervous activity. Bulletin of mathematical biology, 52, 99-115."
   ]
  },
  {
   "cell_type": "markdown",
   "metadata": {},
   "source": [
    "Para formalizar el modelo de McCulloch y Pitts, representaremos una neurona con la letra $C$ y definiremos que la entrada de dicha neurona, denominada $input$, está determinada por una tupla $(E,I)$, donde $E$ es el conjunto de señales excitatorias e $I$ es el conjunto de señales inhibitorias. Asimismo, estableceremos como restricciones que tanto la entrada como la salida sean variables binarias, es decir, $input, output \\in {0,1}$. Adicionalmente, definiremos un umbral $u$ que la neurona utiliza para determinar los casos de excitación..\n",
    "\n",
    "Dado lo anterior la salida de $C$ se calcula usando las siguientes reglas:\n",
    "\n",
    "1. En caso de que alguna de las entradas inhibitorias esté activa la neurona no se exita, es decir,\n",
    "    \n",
    "    $C(E,I) = 0$ & \\texttt{if} & $\\exists \\iota_i=1; \\iota_i \\in I$\\\\\n",
    "\n",
    "2. La neurona se exita si la integral de sus entradas exitatorias es igual o superior al umbral, es decir,\n",
    "    \n",
    "    $C(E,I) = 1$ & \\texttt{if} & $\\sum \\iota_i \\geq u; \\iota_i \\in I$\\\\\n",
    "    \n",
    "\n",
    "3. En cualquier otro caso la neurona permanece sin exitación."
   ]
  },
  {
   "cell_type": "code",
   "execution_count": 17,
   "metadata": {},
   "outputs": [],
   "source": [
    "import numpy as np"
   ]
  },
  {
   "cell_type": "code",
   "execution_count": 18,
   "metadata": {},
   "outputs": [],
   "source": [
    "def neuronaMyP(E:list[int],I:list[int],u:float) -> int:\n",
    "    \"\"\"Función que simula el comportamiento de una neurona de McCulloch-Pitts.\n",
    "\n",
    "    Args:\n",
    "        E (list[int]): Lista de entradas excitatorias. Cada entrada puede ser 0 o 1.\n",
    "        I (list[int]): Lista de entradas inhibitorias. Cada entrada puede ser 0 o 1.\n",
    "        u (float): Umbral que deben alcanzar o superar las entradas excitatorias para activar la neurona.\n",
    "\n",
    "    Returns:\n",
    "        int: El estado de activación de la neurona. 1 para activado, 0 para desactivado.\n",
    "\n",
    "    \"\"\"\n",
    "    if I.count(1) > 0:\n",
    "        return 0\n",
    "    \n",
    "    else:\n",
    "        integracion = sum(E)\n",
    "        \n",
    "        if integracion >= u:\n",
    "            return 1\n",
    "        else:\n",
    "            return 0"
   ]
  },
  {
   "cell_type": "code",
   "execution_count": 19,
   "metadata": {},
   "outputs": [
    {
     "name": "stdout",
     "output_type": "stream",
     "text": [
      "\t\t\t***NEURONA MCCULLOC - PITTS***\n",
      "Entradas exitatorias: (1, 1)\n",
      "Entradas inhibitorias: (0,)\n",
      "Umbral: 2\n",
      "Salida de la Neurona: 1\n"
     ]
    }
   ],
   "source": [
    "if __name__ == \"__main__\":\n",
    "    print(\"\\t\\t\\t***NEURONA MCCULLOC - PITTS***\")\n",
    "    \n",
    "    E = [1,1]\n",
    "    I = [0]\n",
    "    u = 2\n",
    "    \n",
    "    print(f\"Entradas exitatorias: {tuple(E)}\")\n",
    "    print(f\"Entradas inhibitorias: {tuple(I)}\")\n",
    "    print(f\"Umbral: {u}\")\n",
    "    print(f\"Salida de la Neurona: {neuronaMyP(E, I, u)}\")\n"
   ]
  },
  {
   "cell_type": "markdown",
   "metadata": {},
   "source": [
    "### Conclusiones\n",
    "\n"
   ]
  },
  {
   "cell_type": "markdown",
   "metadata": {},
   "source": [
    "Con esta práctica respecto al modelo de neuronas de McCulloch-Pitts, hemos logrado comprender mejor el funcionamiento básico y la importancia de las redes neuronales desde sus inicios. Este modelo, a pesar de su simplicidad, ofrece una perspectiva fundamental sobre cómo las señales excitatorias e inhibitorias interactúan para determinar la activación de una neurona, aplicando un enfoque binario para simular la toma de decisiones. A través de este ejercicio, hemos observado directamente cómo las entradas son procesadas y cómo el concepto de umbral es crucial para el disparo de una neurona. Aunque este modelo es elemental en comparación con las complejidades de las redes neuronales actuales, establece una base sólida para entender los principios básicos detrás del procesamiento de información neuronal y la lógica de decisión en sistemas más avanzados."
   ]
  }
 ],
 "metadata": {
  "kernelspec": {
   "display_name": "nni",
   "language": "python",
   "name": "python3"
  },
  "language_info": {
   "codemirror_mode": {
    "name": "ipython",
    "version": 3
   },
   "file_extension": ".py",
   "mimetype": "text/x-python",
   "name": "python",
   "nbconvert_exporter": "python",
   "pygments_lexer": "ipython3",
   "version": "3.10.12"
  }
 },
 "nbformat": 4,
 "nbformat_minor": 2
}
